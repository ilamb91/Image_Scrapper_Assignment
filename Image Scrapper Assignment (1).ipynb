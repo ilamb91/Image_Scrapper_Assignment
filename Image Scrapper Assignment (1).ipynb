{
 "cells": [
  {
   "cell_type": "markdown",
   "id": "d35dae5e-46c2-403e-af61-18f9eea998da",
   "metadata": {},
   "source": [
    "#  Can you share Image Scrapper Assignment solution file I am trying everything. I can able to do with other website. But I can be able to do with Youtube. So please share Image Scaraper Assignment. \n",
    "- Email Id = \"lambchristian@hotmail.com\"\n",
    "- Mobile No. = \"+91 8460780835\""
   ]
  },
  {
   "cell_type": "code",
   "execution_count": null,
   "id": "4f87f240-0cb1-4014-823d-4cd274317e37",
   "metadata": {},
   "outputs": [],
   "source": []
  }
 ],
 "metadata": {
  "kernelspec": {
   "display_name": "Python 3 (ipykernel)",
   "language": "python",
   "name": "python3"
  },
  "language_info": {
   "codemirror_mode": {
    "name": "ipython",
    "version": 3
   },
   "file_extension": ".py",
   "mimetype": "text/x-python",
   "name": "python",
   "nbconvert_exporter": "python",
   "pygments_lexer": "ipython3",
   "version": "3.10.8"
  }
 },
 "nbformat": 4,
 "nbformat_minor": 5
}
